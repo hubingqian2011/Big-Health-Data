{
 "cells": [
  {
   "cell_type": "code",
   "execution_count": 3,
   "metadata": {},
   "outputs": [],
   "source": [
    "from sklearn.datasets import load_svmlight_file\n",
    "data_train = load_svmlight_file('features_svmlight.train',n_features=4519)"
   ]
  },
  {
   "cell_type": "code",
   "execution_count": 7,
   "metadata": {},
   "outputs": [],
   "source": [
    "import numpy as np\n",
    "from sklearn.datasets import load_svmlight_file\n",
    "from sklearn.linear_model import LogisticRegression\n",
    "from sklearn.svm import LinearSVC\n",
    "from sklearn.tree import DecisionTreeClassifier\n",
    "from sklearn.metrics import *\n",
    "from sklearn.ensemble import RandomForestClassifier\n",
    "from sklearn.metrics import f1_score"
   ]
  },
  {
   "cell_type": "code",
   "execution_count": 11,
   "metadata": {},
   "outputs": [],
   "source": [
    "def logistic_regression_pred(X_train, Y_train):\n",
    "    clf = LogisticRegression(random_state=545510477).fit(X_train, Y_train)\n",
    "    Y_pred = clf.predict(X_train)\n",
    "   \n",
    "    return Y_pred\n",
    "\n",
    "def svm_pred(X_train, Y_train):\n",
    "    clf = LinearSVC(random_state=545510477).fit(X_train, Y_train)\n",
    "    Y_pred = clf.predict(X_train)\n",
    "    \n",
    "    return Y_pred\n",
    "\n",
    "def decisionTree_pred(X_train, Y_train):\n",
    "    clf = DecisionTreeClassifier(random_state=545510477, max_depth=20).fit(X_train, Y_train)\n",
    "    Y_pred = clf.predict(X_train)\n",
    "    \n",
    "    return Y_pred\n",
    "\n",
    "def classification_metrics(Y_pred, Y_true):\n",
    "    accuracy = accuracy_score(Y_pred,Y_true)\n",
    "    auc = roc_auc_score(Y_pred,Y_true)\n",
    "    precision = precision_score(Y_pred,Y_true)\n",
    "    recall = recall_score(Y_pred,Y_true)\n",
    "    #f1_score = f1_score(Y_pred,Y_true,average=None)   \n",
    "    return accuracy, auc, precision, recall, f1_score\n",
    "\n",
    "def RandomForest_pred(X_train,Y_train):\n",
    "    clf = RandomForestClassifier(n_estimators=1000, max_depth=20, random_state=545510477).fit(X_train,Y_train)\n",
    "    Y_pred = clf.predict(X_train)\n",
    "    return Y_pred\n",
    "\n",
    "def display_metrics(classifierName,Y_pred,Y_true):\n",
    "    print(\"______________________________________________\")\n",
    "    print((\"Classifier: \"+classifierName))\n",
    "    acc, auc_, precision, recall, f1score = classification_metrics(Y_pred,Y_true)\n",
    "    print((\"Accuracy: \"+str(acc)))\n",
    "    print((\"AUC: \"+str(auc_)))\n",
    "    print((\"Precision: \"+str(precision)))\n",
    "    print((\"Recall: \"+str(recall)))\n",
    "    print((\"F1-score: \"+str(f1score)))\n",
    "    print(\"______________________________________________\")\n",
    "    print(\"\")"
   ]
  },
  {
   "cell_type": "code",
   "execution_count": 12,
   "metadata": {},
   "outputs": [
    {
     "name": "stderr",
     "output_type": "stream",
     "text": [
      "C:\\Users\\hubin\\anaconda3\\lib\\site-packages\\sklearn\\linear_model\\_logistic.py:762: ConvergenceWarning: lbfgs failed to converge (status=1):\n",
      "STOP: TOTAL NO. of ITERATIONS REACHED LIMIT.\n",
      "\n",
      "Increase the number of iterations (max_iter) or scale the data as shown in:\n",
      "    https://scikit-learn.org/stable/modules/preprocessing.html\n",
      "Please also refer to the documentation for alternative solver options:\n",
      "    https://scikit-learn.org/stable/modules/linear_model.html#logistic-regression\n",
      "  n_iter_i = _check_optimize_result(\n"
     ]
    },
    {
     "name": "stdout",
     "output_type": "stream",
     "text": [
      "______________________________________________\n",
      "Classifier: Logistic Regression\n",
      "Accuracy: 0.7254271098098517\n",
      "AUC: 0.7080065111484446\n",
      "Precision: 0.44273982492554825\n",
      "Recall: 0.6752924982794218\n",
      "F1-score: <function f1_score at 0x000001D1C83B63A0>\n",
      "______________________________________________\n",
      "\n"
     ]
    },
    {
     "name": "stderr",
     "output_type": "stream",
     "text": [
      "C:\\Users\\hubin\\anaconda3\\lib\\site-packages\\sklearn\\svm\\_base.py:976: ConvergenceWarning: Liblinear failed to converge, increase the number of iterations.\n",
      "  warnings.warn(\"Liblinear failed to converge, increase \"\n"
     ]
    },
    {
     "name": "stdout",
     "output_type": "stream",
     "text": [
      "______________________________________________\n",
      "Classifier: SVM\n",
      "Accuracy: 0.7502332614780735\n",
      "AUC: 0.7276349760304175\n",
      "Precision: 0.634780254489667\n",
      "Recall: 0.6543255813953488\n",
      "F1-score: <function f1_score at 0x000001D1C83B63A0>\n",
      "______________________________________________\n",
      "\n",
      "______________________________________________\n",
      "Classifier: Decision Tree\n",
      "Accuracy: 0.9729738425404588\n",
      "AUC: 0.9721299278740912\n",
      "Precision: 0.9544264958036278\n",
      "Recall: 0.9692970396847218\n",
      "F1-score: <function f1_score at 0x000001D1C83B63A0>\n",
      "______________________________________________\n",
      "\n",
      "______________________________________________\n",
      "Classifier: Random Forest\n",
      "Accuracy: 0.9809208197934429\n",
      "AUC: 0.9836212716398638\n",
      "Precision: 0.9539752729898023\n",
      "Recall: 0.992209498779801\n",
      "F1-score: <function f1_score at 0x000001D1C83B63A0>\n",
      "______________________________________________\n",
      "\n"
     ]
    }
   ],
   "source": [
    "X_train = data_train[0]\n",
    "Y_train = data_train[1]\n",
    "display_metrics(\"Logistic Regression\",logistic_regression_pred(X_train,Y_train),Y_train)\n",
    "display_metrics(\"SVM\",svm_pred(X_train,Y_train),Y_train)\n",
    "display_metrics(\"Decision Tree\",decisionTree_pred(X_train,Y_train),Y_train)\n",
    "display_metrics(\"Random Forest\",RandomForest_pred(X_train,Y_train),Y_train)"
   ]
  },
  {
   "cell_type": "code",
   "execution_count": null,
   "metadata": {},
   "outputs": [],
   "source": []
  }
 ],
 "metadata": {
  "kernelspec": {
   "display_name": "Python 3",
   "language": "python",
   "name": "python3"
  },
  "language_info": {
   "codemirror_mode": {
    "name": "ipython",
    "version": 3
   },
   "file_extension": ".py",
   "mimetype": "text/x-python",
   "name": "python",
   "nbconvert_exporter": "python",
   "pygments_lexer": "ipython3",
   "version": "3.8.3"
  }
 },
 "nbformat": 4,
 "nbformat_minor": 4
}
